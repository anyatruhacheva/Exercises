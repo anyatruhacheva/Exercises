{
 "cells": [
  {
   "cell_type": "code",
   "execution_count": 2,
   "id": "43fe3691",
   "metadata": {},
   "outputs": [],
   "source": [
    "import numpy as np\n",
    "\n",
    "def calculate(lists):\n",
    "  \n",
    "    if len(lists)==9:\n",
    "        \n",
    "        array_t = np.array(lists)\n",
    "        array = array_t.reshape(3, 3)\n",
    "        #print(array)\n",
    "        calculations = {\n",
    "            'mean': [np.mean(array, axis=0).tolist(), \n",
    "                     np.mean(array, axis=1).tolist(),\n",
    "                     np.mean(array)],\n",
    "          \n",
    "            'variance': [np.var(array, axis=0).tolist(), \n",
    "                         np.var(array, axis=1).tolist(),\n",
    "                         np.var(array.flatten())],\n",
    "          \n",
    "            'standard deviation': [np.std(array, axis=0).tolist(), \n",
    "                                   np.std(array, axis=1).tolist(),\n",
    "                                   np.std(array.flatten())],\n",
    "          \n",
    "            'max': [np.max(array, axis=0).tolist(), \n",
    "                    np.max(array, axis=1).tolist(), \n",
    "                    np.max(array.flatten())],\n",
    "          \n",
    "            'min': [np.min(array, axis=0).tolist(), \n",
    "                    np.min(array, axis=1).tolist(), \n",
    "                    np.min(array.flatten())],\n",
    "          \n",
    "            'sum': [np.sum(array, axis=0).tolist(), \n",
    "                    np.sum(array, axis=1).tolist(), \n",
    "                    np.sum(array.flatten())]\n",
    "            }\n",
    "    else:\n",
    "        raise ValueError('List must contain nine numbers.')\n",
    "    return calculations"
   ]
  }
 ],
 "metadata": {
  "kernelspec": {
   "display_name": "Python 3 (ipykernel)",
   "language": "python",
   "name": "python3"
  },
  "language_info": {
   "codemirror_mode": {
    "name": "ipython",
    "version": 3
   },
   "file_extension": ".py",
   "mimetype": "text/x-python",
   "name": "python",
   "nbconvert_exporter": "python",
   "pygments_lexer": "ipython3",
   "version": "3.10.12"
  }
 },
 "nbformat": 4,
 "nbformat_minor": 5
}
